{
 "cells": [
  {
   "attachments": {},
   "cell_type": "markdown",
   "id": "a05410a0",
   "metadata": {},
   "source": [
    "# Optimization problem (heuristics) TSP challenge\n",
    "\n",
    "1- solution representation, good one to start with\n",
    "\n",
    "2- initial solution function\n",
    "\n",
    "3- function to create the objective value\n",
    "\n",
    "4- operator function (swap for example)\n",
    "\n",
    "5- loop to manage the solver function\n",
    "\n",
    "# TSP\n",
    "\n",
    "travel to 10 cities in any order then go back home, always starting at city 1 amd always ending at city 1, and in between go to every other city, not nessecary city 1, can start with any city but must end at the starting city."
   ]
  },
  {
   "cell_type": "code",
   "execution_count": 171,
   "id": "d8b80dbf",
   "metadata": {},
   "outputs": [],
   "source": [
    "import random\n",
    "\n",
    "\n",
    "# solution representation, a function to generate random list of cities\n",
    "def init_route():\n",
    "    # Initialize a list of 10 cities. Here each city is represented by a unique integer from 0 to 9.\n",
    "    cities = [0, 1, 2, 3, 4, 5, 6, 7, 8, 9]\n",
    "\n",
    "    # Shuffle the list of cities in place. This effectively creates a random route between the cities.\n",
    "    random.shuffle(cities)\n",
    "\n",
    "    # Add the first city to the end of the list. This is because in a round trip route, the start city and end city are the same.\n",
    "    cities.append(cities[0])\n",
    "\n",
    "    # Return the resulting list of cities, which represents a random round trip route.\n",
    "    return cities\n",
    "\n"
   ]
  },
  {
   "cell_type": "code",
   "execution_count": 172,
   "id": "f7602f51",
   "metadata": {},
   "outputs": [],
   "source": [
    "# calculate the distance for the route given\n",
    "def calc_distance(paths):\n",
    "    # distance_arr is a 2D matrix representing the distances between each pair of cities.\n",
    "    # Each row of the matrix corresponds to a specific city. The elements of the row represent the distance to every other city.\n",
    "    distance_arr = [\n",
    "        [0, 191, 125, 178, 196, 107, 159, 182, 61, 52],\n",
    "        [191, 0, 60, 141, 111, 111, 192, 98, 83, 57],\n",
    "        [125, 60, 0, 189, 81, 198, 173, 102, 147, 68],\n",
    "        [178, 141, 189, 0, 82, 54, 174, 120, 169, 79],\n",
    "        [196, 111, 81, 82, 0, 170, 192, 96, 95, 102],\n",
    "        [107, 111, 198, 54, 170, 0, 137, 124, 115, 122],\n",
    "        [159, 192, 173, 174, 192, 137, 0, 50, 55, 80],\n",
    "        [182, 98, 102, 120, 96, 124, 50, 0, 195, 104],\n",
    "        [61, 83, 147, 169, 95, 115, 55, 195, 0, 94],\n",
    "        [52, 57, 68, 79, 102, 122, 80, 104, 94, 0],\n",
    "        ]\n",
    "\n",
    "    #   Initialize a variable to hold the total distance of the path.\n",
    "    distance_sum = 0\n",
    "\n",
    "    # Loop over the indices in the paths list, stopping at the second to last index\n",
    "    # since you'll be looking ahead one index on each iteration.\n",
    "    for i in range(len(paths)-1):\n",
    "        # Get the current city from the paths list\n",
    "        city1 = paths[i]\n",
    "        # Get the next city from the paths list\n",
    "        city2 = paths[i+1]\n",
    "        # Use these two cities to index into the distance_arr matrix\n",
    "        # and get the distance between city1 and city2\n",
    "        distance = distance_arr[city1][city2]\n",
    "        # Uncomment the next two lines to print each pair of cities and their distance\n",
    "        # print(city1, city2) #debugging\n",
    "        # print(distance) #debugging\n",
    "        # Add the distance to the running total\n",
    "        distance_sum += distance\n",
    "        \n",
    "    # After the loop, return the total distance\n",
    "    return distance_sum\n",
    "\n"
   ]
  },
  {
   "cell_type": "code",
   "execution_count": 173,
   "id": "f572898d",
   "metadata": {},
   "outputs": [
    {
     "data": {
      "text/plain": [
       "[0, 6, 5, 4, 2, 9, 7, 1, 3, 8, 0]"
      ]
     },
     "execution_count": 173,
     "metadata": {},
     "output_type": "execute_result"
    }
   ],
   "source": [
    "path = init_route()\n",
    "path"
   ]
  },
  {
   "cell_type": "code",
   "execution_count": 174,
   "id": "76e3f6c8",
   "metadata": {},
   "outputs": [
    {
     "data": {
      "text/plain": [
       "1188"
      ]
     },
     "execution_count": 174,
     "metadata": {},
     "output_type": "execute_result"
    }
   ],
   "source": [
    "calc_distance(path)"
   ]
  },
  {
   "cell_type": "code",
   "execution_count": 196,
   "id": "f7264f10",
   "metadata": {},
   "outputs": [],
   "source": [
    "# Function to solve the problem using the first approach\n",
    "def distance_solver1():\n",
    "    # Initialize the paths with the starting routes\n",
    "    paths = init_route()\n",
    "\n",
    "    # Calculate the initial total distance of the paths using the calc_distance function\n",
    "    # The goal is to minimize this distance\n",
    "    lowest_distance = calc_distance(paths)\n",
    "\n",
    "    # Variable to store the iteration number where the lowest distance was found\n",
    "    lowest_distance_found_at = 0\n",
    "\n",
    "    # Start a loop that will make 100000 attempts to find a better (shorter) path\n",
    "    for i in range(100000):\n",
    "        # For each attempt, generate a new set of paths\n",
    "        paths = init_route()\n",
    "\n",
    "        # Calculate the total distance for these new paths\n",
    "        current_distance = calc_distance(paths)\n",
    "\n",
    "        # If the new total distance is less than the current lowest distance,\n",
    "        # update lowest_distance and store the iteration number where it was found\n",
    "        if current_distance < lowest_distance:\n",
    "            lowest_distance = current_distance\n",
    "            lowest_distance_found_at = i\n",
    "    # print(lowest_distance_found_at) # debugging \n",
    "    # print(paths) # debugging \n",
    "    # After all attempts, return the lowest distance found, the iteration where it was found, and the associated paths\n",
    "    return lowest_distance\n",
    "\n"
   ]
  },
  {
   "cell_type": "code",
   "execution_count": 198,
   "id": "dada5aaf",
   "metadata": {},
   "outputs": [
    {
     "data": {
      "text/plain": [
       "676"
      ]
     },
     "execution_count": 198,
     "metadata": {},
     "output_type": "execute_result"
    }
   ],
   "source": [
    "distance_solver1()"
   ]
  },
  {
   "cell_type": "code",
   "execution_count": 199,
   "id": "7c6b0b7e",
   "metadata": {},
   "outputs": [],
   "source": [
    "# the operator function, i used swap operator in this challenge\n",
    "# swapping cities function\n",
    "def city_swap(path, city1, city2):\n",
    "    # Store the value of the city at the first given position (city1)\n",
    "    value = path[city1]\n",
    "\n",
    "    # Replace the city at the first position (city1) with the city at the second position (city2)\n",
    "    path[city1] = path[city2]\n",
    "\n",
    "    # Replace the city at the second position (city2) with the original city from the first position (stored in 'value')\n",
    "    path[city2] = value\n",
    "\n",
    "    # Return the updated path with the cities swapped\n",
    "    return path\n"
   ]
  },
  {
   "cell_type": "code",
   "execution_count": 200,
   "id": "4fdc0f64",
   "metadata": {},
   "outputs": [],
   "source": [
    "# approach 2 \n",
    "def distance_solver2():\n",
    "    # Generate an initial route for travelling between cities\n",
    "    paths = init_route()\n",
    "\n",
    "    # Calculate the total distance of the initial route\n",
    "    lowest_distance = calc_distance(paths)\n",
    "    # Initialize the iteration at which the lowest distance was found\n",
    "    lowest_distance_found_at = 0\n",
    "\n",
    "    # Initiate a loop that will run 100,000 times\n",
    "    for i in range(100000):\n",
    "        # Calculate the distance of the current route\n",
    "        current_distance = calc_distance(paths)\n",
    "\n",
    "        # If the distance of the current route is less than the lowest distance found so far,\n",
    "        # update the lowest distance and the iteration at which it was found\n",
    "        if current_distance < lowest_distance:\n",
    "            lowest_distance = current_distance\n",
    "            lowest_distance_found_at = i\n",
    "\n",
    "        # Choose two random cities to swap their positions in the route\n",
    "        # The random.choices function returns a list with one element from [1,2,3,4,5,6,7,8,9]\n",
    "        city1_position = random.choice([1,2,3,4,5,6,7,8,9])\n",
    "        city2_position = random.choice([1,2,3,4,5,6,7,8,9])\n",
    "\n",
    "        # Swap the positions of the two cities in the route to generate a new route\n",
    "        paths = city_swap(paths, city1_position, city2_position)\n",
    "    # print(lowest_distance_found_at) # debugging\n",
    "    # print(paths) # debugging\n",
    "    # Return the lowest  distance found, the iteration at which it was found, and the corresponding route\n",
    "    return lowest_distance\n",
    "\n",
    "\n",
    "\n"
   ]
  },
  {
   "cell_type": "code",
   "execution_count": 210,
   "id": "b4ad3658",
   "metadata": {},
   "outputs": [
    {
     "data": {
      "text/plain": [
       "676"
      ]
     },
     "execution_count": 210,
     "metadata": {},
     "output_type": "execute_result"
    }
   ],
   "source": [
    "distance_solver2()"
   ]
  },
  {
   "cell_type": "code",
   "execution_count": 212,
   "id": "83e8839f",
   "metadata": {},
   "outputs": [],
   "source": [
    "# acceptance criteria, hill climbing method to optimize the solution \n",
    "# accepting criteria is improving only, if old is better than new\n",
    "\n",
    "def distance_solver3():\n",
    "    # Initialize the routes\n",
    "    paths = init_route()\n",
    "    \n",
    "    # Calculate the total distance of the initial route\n",
    "    lowest_distance = calc_distance(paths)\n",
    "    # Initialize the iteration where the lowest distance was found\n",
    "    lowest_distance_found_at = 0\n",
    "    \n",
    "    # loop for 100,000 attempts\n",
    "    for i in range(100000):\n",
    "        # Calculate the total distance for the current route configuration\n",
    "        current_distance = calc_distance(paths)\n",
    "        \n",
    "        # If the current distance is less than the lowest recorded distance,\n",
    "        # update the lowest distance and record the iteration\n",
    "        if current_distance < lowest_distance:\n",
    "            lowest_distance_found_at = i\n",
    "            lowest_distance = current_distance \n",
    "            \n",
    "        # Select two cities randomly by their position to swap\n",
    "        city1_position = random.choice([1,2,3,4,5,6,7,8,9])\n",
    "        city2_position = random.choice([1,2,3,4,5,6,7,8,9])\n",
    "        \n",
    "        # Swap the two selected cities in the path\n",
    "        paths = city_swap(paths, city1_position, city2_position)\n",
    "        \n",
    "        # If the distance after swap is more than the lowest recorded distance and it's not the first iteration,\n",
    "        # revert the swap to the previous configuration\n",
    "        if current_distance > lowest_distance and i != 0:\n",
    "            # Swap back the cities\n",
    "            paths = city_swap(paths, city1_position_old, city2_position_old)\n",
    "        else:\n",
    "            # If the swap improved the distance or it's the first iteration,\n",
    "            # keep the swap and update the positions of swapped cities for potential future reversion\n",
    "            city1_position_old = city1_position\n",
    "            city2_position_old = city2_position\n",
    "            \n",
    "    # Return the lowest distance found, the iteration where it was found, and the final configuration of the path\n",
    "    # print(lowest_distance_found_at)  # DEBUGGING\n",
    "    # print(paths) # DEBUGGING\n",
    "    return lowest_distance \n"
   ]
  },
  {
   "cell_type": "code",
   "execution_count": 213,
   "id": "b9f1602e",
   "metadata": {},
   "outputs": [
    {
     "data": {
      "text/plain": [
       "676"
      ]
     },
     "execution_count": 213,
     "metadata": {},
     "output_type": "execute_result"
    }
   ],
   "source": [
    "distance_solver3()"
   ]
  },
  {
   "cell_type": "code",
   "execution_count": 214,
   "id": "0c0de1b1",
   "metadata": {},
   "outputs": [
    {
     "name": "stdout",
     "output_type": "stream",
     "text": [
      "[676, 689, 676, 699, 689, 676, 676, 689, 689, 699, 705, 676, 689, 712, 689, 676, 689, 676, 676, 676, 711, 689, 676, 700, 699, 676, 676, 699, 676, 700, 676]\n",
      "[689, 676, 676, 676, 676, 699, 689, 707, 676, 699, 699, 676, 689, 676, 699, 700, 699, 689, 699, 700, 676, 676, 699, 700, 707, 676, 689, 689, 676, 676, 689]\n",
      "[689, 676, 676, 699, 699, 676, 676, 689, 676, 676, 689, 676, 700, 711, 676, 676, 689, 676, 676, 699, 676, 676, 700, 705, 676, 707, 676, 689, 699, 689, 699]\n",
      "Average distance for Solver 1 over 31 runs: 687.0967741935484\n",
      "Average distance for Solver 2 over 31 runs: 688.4516129032259\n",
      "Average distance for Solver 3 over 31 runs: 686.8387096774194\n"
     ]
    }
   ],
   "source": [
    "\n",
    "distances1 = []\n",
    "distances2 = [] \n",
    "distances3 = []\n",
    "\n",
    "for i in range(31):   \n",
    "    distances1.append(distance_solver1())\n",
    "    distances2.append(distance_solver2())\n",
    "    distances3.append(distance_solver3())\n",
    "    \n",
    "    \n",
    "\n",
    "print(distances1)\n",
    "print(distances2)\n",
    "print(distances3)\n",
    "\n",
    "\n",
    "avg_distance1 = sum(distances1) / 31\n",
    "avg_distance2 = sum(distances2) / 31\n",
    "avg_distance3 = sum(distances3) / 31\n",
    "\n",
    "print(f\"Average distance for Solver 1 over {31} runs: {avg_distance1}\")\n",
    "print(f\"Average distance for Solver 2 over {31} runs: {avg_distance2}\")\n",
    "print(f\"Average distance for Solver 3 over {31} runs: {avg_distance3}\")\n",
    "\n",
    "   \n",
    "\n"
   ]
  },
  {
   "cell_type": "code",
   "execution_count": 221,
   "id": "c3c71ef7",
   "metadata": {},
   "outputs": [
    {
     "data": {
      "image/png": "[encoded data removed]",
      "text/plain": [
       "<Figure size 640x480 with 1 Axes>"
      ]
     },
     "metadata": {},
     "output_type": "display_data"
    }
   ],
   "source": [
    "# now boxplot to compare distance solver2 and 3 because one was the shuffle approach (non-heauristic)\n",
    "\n",
    "# plt.figure(figsize=(5, 10))\n",
    "plt.boxplot([distances2, distances3])\n",
    "plt.show()\n"
   ]
  },
  {
   "attachments": {},
   "cell_type": "markdown",
   "id": "90a1ac61",
   "metadata": {},
   "source": [
    "### Comment on the boxplot above compairing distance solver2 and 3 because 1 was the shuffle approach (non-heauristic)\n",
    "\n",
    "From the given data, it can be seen that `distance_solver2` and `distance_solver3` have quite close average results, with the latter slightly outperforming the former. The key difference between the two algorithms is in their acceptance criteria: `distance_solver2` accepts any new path regardless of whether it's better or worse, whereas `distance_solver3` only accepts a new path if it's shorter than the current path (unless it's the first iteration). This makes `distance_solver3` a hill-climbing algorithm, which is prone to getting stuck in local optima - it could find a good solution quickly, but there may be a better solution that it will never reach because doing so would involve initially moving to a worse solution. On the other hand, `distance_solver2`, by accepting any new path, explores a wider range of solutions and may find better ones over time, albeit at a slower pace. However, it seems that in this particular case, despite its simplicity and the wider exploration, `distance_solver2` doesn't significantly outperform `distance_solver3` in terms of the average distance achieved over multiple runs. This might be due to the specific characteristics of the problem instance, including the number of cities and the distances between them.\n"
   ]
  }
 ],
 "metadata": {
  "kernelspec": {
   "display_name": "Python 3 (ipykernel)",
   "language": "python",
   "name": "python3"
  },
  "language_info": {
   "codemirror_mode": {
    "name": "ipython",
    "version": 3
   },
   "file_extension": ".py",
   "mimetype": "text/x-python",
   "name": "python",
   "nbconvert_exporter": "python",
   "pygments_lexer": "ipython3",
   "version": "3.9.13"
  }
 },
 "nbformat": 4,
 "nbformat_minor": 5
}
